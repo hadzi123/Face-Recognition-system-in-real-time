{
 "cells": [
  {
   "cell_type": "code",
   "execution_count": 1,
   "id": "d25a02e2-6f7d-47e5-a709-09805355efff",
   "metadata": {},
   "outputs": [],
   "source": [
    "import cv2\n",
    "import face_recognition\n",
    "import os\n",
    "import time\n",
    "import pandas as pd\n",
    "import streamlit as st\n",
    "\n",
    "# Declaring variables\n",
    "path = \"db\"\n",
    "scale = 2"
   ]
  },
  {
   "cell_type": "code",
   "execution_count": 2,
   "id": "64189e14-20e8-42a9-be34-4639446c096f",
   "metadata": {},
   "outputs": [],
   "source": [
    "def late_penalty(arrive_time):\n",
    "    penalty = 0\n",
    "    if int(arrive_time[0:2])> 8:\n",
    "        penalty = 10\n",
    "    return penalty"
   ]
  },
  {
   "cell_type": "code",
   "execution_count": 3,
   "id": "d230cf1a-e5fc-4199-901d-b2bb537d683b",
   "metadata": {},
   "outputs": [],
   "source": [
    "def markattendance(person_name, new_date):\n",
    "    with open(\"Attendance.csv\",'r+') as f:\n",
    "        lines = f.readlines()\n",
    "        name_list=[]\n",
    "        now = time.localtime()\n",
    "        date = new_date\n",
    "\n",
    "        for line in lines:\n",
    "            entry = line.split(',')\n",
    "            if len(entry)>1:\n",
    "                if entry[2] == date:\n",
    "                    name_list.append(entry[0])\n",
    "\n",
    "        if person_name not in name_list:\n",
    "            arrive_time = time.strftime(\"%H:%M:%S\", now)\n",
    "            penalty = late_penalty(arrive_time)\n",
    "            f.writelines(f'\\n{person_name},{arrive_time},{date},{penalty}')\n",
    "           \n",
    "    f = open(\"Attendance.csv\",'r',encoding = 'utf-8')\n",
    "    df = pd.read_csv(f)\n",
    "    return df"
   ]
  },
  {
   "cell_type": "code",
   "execution_count": 4,
   "id": "aa6792a2-6acf-4943-bea6-738bc6a00c2c",
   "metadata": {},
   "outputs": [],
   "source": [
    "def prepare_test_img(test_img):\n",
    "    test_img = face_recognition.load_image_file(test_img)\n",
    "    #test_img = cv2.cvtColor(test_img,cv2.COLOR_BGR2RGB)\n",
    "    test_img_small = cv2.resize(test_img,(0,0),None,0.5,0.5)\n",
    "\n",
    "    face_test_locations = face_recognition.face_locations(test_img_small, model = \"hog\")\n",
    "    encoded_tests = face_recognition.face_encodings(test_img_small)\n",
    "    return test_img, encoded_tests, face_test_locations"
   ]
  },
  {
   "cell_type": "code",
   "execution_count": 5,
   "id": "328e38f6-4a87-4f7a-8712-35a29e96e96e",
   "metadata": {},
   "outputs": [],
   "source": [
    "def test(encoded_tests, face_test_locations, test_img, encoded_trains, new_date):\n",
    "    images = os.listdir(path)\n",
    "    name_indices = []\n",
    "    df =\"No Faces Found\"\n",
    "    for encoded_test, face_test_location in zip(encoded_tests, face_test_locations):\n",
    "        results = face_recognition.compare_faces(encoded_trains,encoded_test,tolerance=0.6)\n",
    "        # face_distances = face_recognition.face_distance(encoded_trains,encoded_test)\n",
    "        # st.write(face_distances)\n",
    "        # st.write(images)\n",
    "        if True in results:\n",
    "            name_index = results.index(True)\n",
    "            name_indices.append(name_index)\n",
    "            for count, image in enumerate(images):\n",
    "                if count == name_index:\n",
    "                    person_name = image.split(\".\")[0]\n",
    "                    top_left, bottom_right = (face_test_location[3]*scale, face_test_location[0]*scale) ,(face_test_location[1]*scale, face_test_location[2]*scale)\n",
    "                    cv2.rectangle(test_img,(top_left),(bottom_right),(255,0,255),2)\n",
    "                    cv2.rectangle(test_img,(bottom_right),(top_left[0], bottom_right[1]+30),(255,0,255),cv2.FILLED)\n",
    "                    cv2.putText(test_img,person_name,(top_left[0]+6,bottom_right[1]+25),cv2.FONT_HERSHEY_COMPLEX,1,(255,255,255),1)\n",
    "                    df=markattendance(person_name, new_date)\n",
    "        else:\n",
    "            top_left, bottom_right = (face_test_location[3]*scale, face_test_location[0]*scale) ,(face_test_location[1]*scale, face_test_location[2]*scale)\n",
    "            cv2.rectangle(test_img,(top_left),(bottom_right),(255,0,255),2)\n",
    "            cv2.rectangle(test_img,(bottom_right),(top_left[0], bottom_right[1]+30),(255,0,255),cv2.FILLED)\n",
    "            cv2.putText(test_img,\"UNKNOWN\",(top_left[0]+6,bottom_right[1]+25),cv2.FONT_HERSHEY_COMPLEX,1,(255,255,255),1)\n",
    "            f = open(\"Attendance.csv\",'r',encoding = 'utf-8')\n",
    "            df = pd.read_csv(f)\n",
    "    return (df)"
   ]
  },
  {
   "cell_type": "code",
   "execution_count": null,
   "id": "895a10f6-a886-4c09-bcdc-ebe331dd7d6c",
   "metadata": {},
   "outputs": [],
   "source": []
  }
 ],
 "metadata": {
  "kernelspec": {
   "display_name": "Python 3 (ipykernel)",
   "language": "python",
   "name": "python3"
  },
  "language_info": {
   "codemirror_mode": {
    "name": "ipython",
    "version": 3
   },
   "file_extension": ".py",
   "mimetype": "text/x-python",
   "name": "python",
   "nbconvert_exporter": "python",
   "pygments_lexer": "ipython3",
   "version": "3.10.4"
  }
 },
 "nbformat": 4,
 "nbformat_minor": 5
}
