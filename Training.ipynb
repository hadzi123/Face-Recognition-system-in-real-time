{
 "cells": [
  {
   "cell_type": "code",
   "execution_count": 1,
   "id": "027ef2e4-546a-4b79-8302-061ce804148e",
   "metadata": {},
   "outputs": [],
   "source": [
    "import cv2\n",
    "import face_recognition\n",
    "import os\n",
    "# import streamlit as st\n",
    "# import pickle\n",
    "# Declaring variables\n",
    "path = \"db\"\n",
    "\n",
    "def training(path):\n",
    "    images = os.listdir(path)  \n",
    "    encoded_trains =[]\n",
    "\n",
    "    for image in images:\n",
    "        train_img = face_recognition.load_image_file(f\"db/{image}\")\n",
    "        train_img = cv2.cvtColor(train_img,cv2.COLOR_BGR2RGB)\n",
    "        encoded_trains.append(face_recognition.face_encodings(train_img)[0])\n",
    "    return encoded_trains, images\n",
    "\n",
    "\n",
    "# encoded_trains, images = training(path)\n",
    "# st.write(images)\n",
    "# output_file = 'encoded_faces.pickle'\n",
    "# with open(output_file, 'wb') as f_out:\n",
    "#     pickle.dump(encoded_trains, f_out)"
   ]
  },
  {
   "cell_type": "code",
   "execution_count": null,
   "id": "decb66ae-e019-478a-a3d2-90480f812270",
   "metadata": {},
   "outputs": [],
   "source": []
  }
 ],
 "metadata": {
  "kernelspec": {
   "display_name": "Python 3 (ipykernel)",
   "language": "python",
   "name": "python3"
  },
  "language_info": {
   "codemirror_mode": {
    "name": "ipython",
    "version": 3
   },
   "file_extension": ".py",
   "mimetype": "text/x-python",
   "name": "python",
   "nbconvert_exporter": "python",
   "pygments_lexer": "ipython3",
   "version": "3.10.4"
  }
 },
 "nbformat": 4,
 "nbformat_minor": 5
}
