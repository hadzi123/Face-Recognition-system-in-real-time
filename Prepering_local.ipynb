{
 "cells": [
  {
   "cell_type": "code",
   "execution_count": 1,
   "id": "427c49aa-56ef-4c4f-bd82-7541428deb41",
   "metadata": {},
   "outputs": [],
   "source": [
    "import cv2\n",
    "import face_recognition\n",
    "import os\n",
    "import time\n",
    "import pandas as pd\n",
    "import streamlit as st\n"
   ]
  },
  {
   "cell_type": "code",
   "execution_count": 2,
   "id": "a50feb34-2adc-4ac9-8ca0-7b93c3ca391e",
   "metadata": {},
   "outputs": [],
   "source": [
    "path = \"db\"\n",
    "scale = 2"
   ]
  },
  {
   "cell_type": "code",
   "execution_count": 3,
   "id": "e67182d9-6515-4e20-b101-e4ae20d57e0c",
   "metadata": {},
   "outputs": [],
   "source": [
    "def late_penalty(arrive_time):\n",
    "    penalty = 0\n",
    "    if int(arrive_time[0:2])> 8:\n",
    "        penalty = 10\n",
    "    return penalty"
   ]
  },
  {
   "cell_type": "code",
   "execution_count": 4,
   "id": "28254c6d-4780-4a26-a1a8-0c04bdc5b721",
   "metadata": {},
   "outputs": [],
   "source": [
    "\n",
    "def markattendance(person_name, attendance_file):\n",
    "\n",
    "    with open(attendance_file.name,'r+') as f:\n",
    "        lines = f.readlines()\n",
    "        name_list=[]\n",
    "        now = time.localtime()\n",
    "        date = time.strftime(\"%Y/%m/%d\", now)\n",
    "\n",
    "        for line in lines:\n",
    "            entry = line.split(',')\n",
    "            if len(entry)>1:\n",
    "                if entry[2] == date:\n",
    "                    name_list.append(entry[0])\n",
    "        \n",
    "        if person_name not in name_list:\n",
    "            arrive_time = time.strftime(\"%H:%M:%S\", now)\n",
    "            penalty = late_penalty(arrive_time)\n",
    "            f.writelines(f'\\n{person_name},{arrive_time},{date},{penalty}')\n",
    "      \n",
    "    f = open(attendance_file.name,'r',encoding = 'utf-8')\n",
    "    df = pd.read_csv(f)\n",
    "    return df"
   ]
  },
  {
   "cell_type": "code",
   "execution_count": 5,
   "id": "0fb90dc8-60a5-4a15-8165-c71188a57c27",
   "metadata": {},
   "outputs": [],
   "source": [
    "\n",
    "def prepare_test_img(test_img):\n",
    "    test_img = face_recognition.load_image_file(test_img)\n",
    "    #test_img = cv2.cvtColor(test_img,cv2.COLOR_BGR2RGB)\n",
    "    test_img_small = cv2.resize(test_img,(0,0),None,0.5,0.5)\n",
    "\n",
    "    face_test_locations = face_recognition.face_locations(test_img_small, model = \"hog\")\n",
    "    encoded_tests = face_recognition.face_encodings(test_img_small)\n",
    "    return test_img, encoded_tests, face_test_locations"
   ]
  },
  {
   "cell_type": "code",
   "execution_count": 6,
   "id": "799ba1c6-8b92-4dd2-9dde-e055713e7d75",
   "metadata": {},
   "outputs": [],
   "source": [
    "def test(encoded_tests, face_test_locations, test_img, encoded_trains, attendance_file):\n",
    "    images = os.listdir(path)\n",
    "    name_indices = []\n",
    "    df =\"No Faces Found\" #for handling an error when no faces detected\n",
    "\n",
    "    for encoded_test, face_test_location in zip(encoded_tests, face_test_locations):\n",
    "        results = face_recognition.compare_faces(encoded_trains,encoded_test,tolerance=0.49)\n",
    "        # face_distances = face_recognition.face_distance(encoded_trains,encoded_test)\n",
    "        # st.write(min(face_distances))\n",
    "\n",
    "        if True in results:\n",
    "            name_index = results.index(True)\n",
    "            name_indices.append(name_index)\n",
    "\n",
    "            for count, image in enumerate(images):\n",
    "                if count == name_index:\n",
    "                    person_name = image.split(\".\")[0]\n",
    "                    top_left, bottom_right = (face_test_location[3]*scale, face_test_location[0]*scale) ,(face_test_location[1]*scale, face_test_location[2]*scale)\n",
    "                    cv2.rectangle(test_img,(top_left),(bottom_right),(255,0,255),2)\n",
    "                    cv2.rectangle(test_img,(bottom_right),(top_left[0], bottom_right[1]+30),(255,0,255),cv2.FILLED)\n",
    "                    cv2.putText(test_img,person_name,(top_left[0]+6,bottom_right[1]+25),cv2.FONT_HERSHEY_COMPLEX,1,(255,255,255),1)\n",
    "                    df=markattendance(person_name, attendance_file)\n",
    "        \n",
    "        else:\n",
    "            top_left, bottom_right = (face_test_location[3]*scale, face_test_location[0]*scale) ,(face_test_location[1]*scale, face_test_location[2]*scale)\n",
    "            cv2.rectangle(test_img,(top_left),(bottom_right),(255,0,255),2)\n",
    "            cv2.rectangle(test_img,(bottom_right),(top_left[0], bottom_right[1]+30),(255,0,255),cv2.FILLED)\n",
    "            cv2.putText(test_img,\"UNKNOWN\",(top_left[0]+6,bottom_right[1]+25),cv2.FONT_HERSHEY_COMPLEX,1,(255,255,255),1)\n",
    "            f = open(attendance_file.name,'r',encoding = 'utf-8')\n",
    "            df = pd.read_csv(f)\n",
    "\n",
    "# this code was to put attendances in a dictionary but now i'm using pandas \n",
    "    # attendance_list = [False for i in range(len(results))]\n",
    "    # for i in name_indices:\n",
    "    #     attendance_list[i] = True\n",
    "\n",
    "    # for image in images:\n",
    "    #     names.append(image.split(\".\")[0])\n",
    "\n",
    "    # ans = {}\n",
    "    # for i, name in enumerate (names):\n",
    "    #     ans[name] = attendance_list[i]\n",
    "    return (df)"
   ]
  },
  {
   "cell_type": "code",
   "execution_count": null,
   "id": "16f6842d-1cff-4037-8f86-67e3fe4af277",
   "metadata": {},
   "outputs": [],
   "source": []
  }
 ],
 "metadata": {
  "kernelspec": {
   "display_name": "Python 3 (ipykernel)",
   "language": "python",
   "name": "python3"
  },
  "language_info": {
   "codemirror_mode": {
    "name": "ipython",
    "version": 3
   },
   "file_extension": ".py",
   "mimetype": "text/x-python",
   "name": "python",
   "nbconvert_exporter": "python",
   "pygments_lexer": "ipython3",
   "version": "3.10.4"
  }
 },
 "nbformat": 4,
 "nbformat_minor": 5
}
